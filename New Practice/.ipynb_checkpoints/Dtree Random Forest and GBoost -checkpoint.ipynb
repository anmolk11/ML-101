{
 "cells": [
  {
   "cell_type": "code",
   "execution_count": 2,
   "id": "799231d9",
   "metadata": {},
   "outputs": [],
   "source": [
    "import pandas as pd\n",
    "from sklearn.model_selection import train_test_split\n",
    "df = pd.read_csv('diabetes.csv')\n",
    "target = 'Outcome'\n",
    "X = df.drop([target],axis = 1)\n",
    "y = df[target]\n",
    "X_train,X_test,y_train,y_test = train_test_split(X,y,test_size=0.2,random_state=42)\n",
    "\n",
    "def results(train,test):\n",
    "    print(f\"Testing accuracy : {round(test,2)}\")\n",
    "    print(f\"Training accuracy : {round(train,2)}\")"
   ]
  },
  {
   "cell_type": "markdown",
   "id": "98ee8e40",
   "metadata": {},
   "source": [
    "#### Decision Tree"
   ]
  },
  {
   "cell_type": "code",
   "execution_count": 3,
   "id": "80aed073",
   "metadata": {},
   "outputs": [
    {
     "name": "stdout",
     "output_type": "stream",
     "text": [
      "Testing accuracy : 0.77\n",
      "Training accuracy : 1.0\n"
     ]
    }
   ],
   "source": [
    "from sklearn.tree import DecisionTreeClassifier\n",
    "model = DecisionTreeClassifier().fit(X_train,y_train)\n",
    "results(model.score(X_train,y_train),model.score(X_test,y_test))"
   ]
  },
  {
   "cell_type": "markdown",
   "id": "d23e14a9",
   "metadata": {},
   "source": [
    "Cleary an overfit model"
   ]
  },
  {
   "cell_type": "code",
   "execution_count": 16,
   "id": "5f299ee6",
   "metadata": {},
   "outputs": [
    {
     "data": {
      "image/png": "[encoded data removed]",
      "text/plain": [
       "<Figure size 432x288 with 1 Axes>"
      ]
     },
     "metadata": {
      "needs_background": "light"
     },
     "output_type": "display_data"
    }
   ],
   "source": [
    "import seaborn as sns\n",
    "import matplotlib.pyplot as plt\n",
    "\n",
    "ticks = range(5,16)\n",
    "test = []\n",
    "train = []\n",
    "for deep in ticks:\n",
    "    model = DecisionTreeClassifier(max_depth=deep).fit(X_train,y_train)\n",
    "    train.append(model.score(X_train,y_train))\n",
    "    test.append(model.score(X_test,y_test))\n",
    "\n",
    "sns.lineplot(x = ticks,y = test,label = 'testing')\n",
    "sns.lineplot(x = ticks,y = train,label = 'training')\n",
    "plt.legend()\n",
    "plt.show()"
   ]
  },
  {
   "cell_type": "code",
   "execution_count": null,
   "id": "4545a450",
   "metadata": {},
   "outputs": [],
   "source": []
  }
 ],
 "metadata": {
  "kernelspec": {
   "display_name": "Python 3 (ipykernel)",
   "language": "python",
   "name": "python3"
  },
  "language_info": {
   "codemirror_mode": {
    "name": "ipython",
    "version": 3
   },
   "file_extension": ".py",
   "mimetype": "text/x-python",
   "name": "python",
   "nbconvert_exporter": "python",
   "pygments_lexer": "ipython3",
   "version": "3.9.7"
  }
 },
 "nbformat": 4,
 "nbformat_minor": 5
}
