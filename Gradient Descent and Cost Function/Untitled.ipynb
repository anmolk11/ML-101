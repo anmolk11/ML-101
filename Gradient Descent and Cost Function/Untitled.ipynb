{
 "cells": [
  {
   "cell_type": "code",
   "execution_count": 1,
   "id": "f6671cb4",
   "metadata": {},
   "outputs": [],
   "source": [
    "# tutorial link : https://www.youtube.com/watch?v=vsWrXfO3wWw&list=PLeo1K3hjS3uvCeTYTeyfe0-rN5r8zn9rw&index=4\n",
    "import numpy as np\n",
    "\n",
    "def greadient_descent(x,y):\n",
    "    m_curr = b_curr = 0\n",
    "    itereations = 1000\n",
    "    n = len(x)\n",
    "    learning_rate = 0.001\n",
    "    \n",
    "    for i in range(itereations):\n",
    "        y_pred = m_curr * x + b_curr\n",
    "        md = -(2/n) * sum(x * (y - y_pred))\n",
    "        bd = -(2/n) * sum(y - y_pred)\n",
    "        m_curr = m_curr - learning_rate * md\n",
    "        b_curr = b_curr - learning_rate * bd"
   ]
  }
 ],
 "metadata": {
  "kernelspec": {
   "display_name": "Python 3 (ipykernel)",
   "language": "python",
   "name": "python3"
  },
  "language_info": {
   "codemirror_mode": {
    "name": "ipython",
    "version": 3
   },
   "file_extension": ".py",
   "mimetype": "text/x-python",
   "name": "python",
   "nbconvert_exporter": "python",
   "pygments_lexer": "ipython3",
   "version": "3.9.7"
  }
 },
 "nbformat": 4,
 "nbformat_minor": 5
}
